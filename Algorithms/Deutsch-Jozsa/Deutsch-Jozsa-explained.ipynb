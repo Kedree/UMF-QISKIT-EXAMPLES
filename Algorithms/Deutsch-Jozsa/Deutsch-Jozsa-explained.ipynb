{
 "cells": [
  {
   "cell_type": "code",
   "execution_count": 1,
   "id": "183a8fda",
   "metadata": {},
   "outputs": [],
   "source": [
    "#initialization\n",
    "import numpy as np\n",
    "\n",
    "\n",
    "\n",
    "from qiskit import IBMQ, BasicAer\n",
    "from qiskit.providers.ibmq import least_busy\n",
    "from qiskit import QuantumCircuit , execute\n",
    "from qiskit.tools.jupyter import *\n",
    "provider = IBMQ.load_account()\n",
    "\n",
    "\n",
    "# import basic plot tools\n",
    "from qiskit.visualization import plot_histogram"
   ]
  },
  {
   "cell_type": "code",
   "execution_count": 2,
   "id": "0a4ba2df",
   "metadata": {},
   "outputs": [],
   "source": [
    "def dj_oracle(case, n):\n",
    "    # We need to make a QuantumCircuit ovject to return\n",
    "    # This circuit has n+1 qubits: the size of the input\n",
    "    # plus one output qubit\n",
    "    oracle_qc = QuantumCircuit(n+1)\n",
    "    \n",
    "    # First, let's deal with the casse in which the oracle is balanced\n",
    "    if case == \"balanced\":\n",
    "        # We apply controlled-Not gates for each qubit, using the \n",
    "        # output qubit as the target\n",
    "        for qubit in range(n):\n",
    "            oracle_qc.cx(qubit,n)\n",
    "            \n",
    "    # Case in which oracle is constant\n",
    "    if case == \"constant\":\n",
    "        # First decide what the fixed output of hte oracle will be\n",
    "        # (either always 0 or always 1)\n",
    "        output = np.random.randint(2)\n",
    "        if output == 1:\n",
    "            oracle_qc.x(n)\n",
    "            \n",
    "    oracle_gate = oracle_qc.to_gate()\n",
    "    oracle_gate.name = \"Oracle\" # To show when we display circuit\n",
    "    return oracle_gate"
   ]
  },
  {
   "cell_type": "code",
   "execution_count": 3,
   "id": "02ac7f5c",
   "metadata": {},
   "outputs": [],
   "source": [
    "def dj_algorithm(n, case = 'random'):\n",
    "    dj_circuit = QuantumCircuit(n + 1, n)\n",
    "    # Set up the input register:\n",
    "    for qubit in range(n):\n",
    "        dj_circuit.h(qubit)\n",
    "    # And set up the output qubit:\n",
    "    dj_circuit.x(n)\n",
    "    dj_circuit.h(n)\n",
    "    # Let's append the oracle gate to our circuit:\n",
    "    if case == 'random':\n",
    "        random = np.random.randint(2)\n",
    "        if random ==0:\n",
    "            case = 'constant'\n",
    "        else:\n",
    "            case = 'balanced'\n",
    "    oracle = dj_oracle(case, n)\n",
    "    dj_circuit.append(oracle, range(n+1))\n",
    "    # Finally preform the H-Gates again and measure \n",
    "    for i in range(n):\n",
    "        dj_circuit.h(i)\n",
    "        dj_circuit.measure(i,i)\n",
    "    return dj_circuit"
   ]
  },
  {
   "cell_type": "code",
   "execution_count": 4,
   "id": "d6e3a9a7",
   "metadata": {},
   "outputs": [
    {
     "data": {
      "image/png": "[encoded data removed]",
      "text/plain": [
       "<Figure size 507.997x264.88 with 1 Axes>"
      ]
     },
     "execution_count": 4,
     "metadata": {},
     "output_type": "execute_result"
    }
   ],
   "source": [
    "n = 2\n",
    "dj_circuit = dj_algorithm(n)\n",
    "dj_circuit.draw()"
   ]
  },
  {
   "cell_type": "code",
   "execution_count": 5,
   "id": "78907586",
   "metadata": {
    "scrolled": true
   },
   "outputs": [
    {
     "data": {
      "image/png": "[encoded data removed]",
      "text/plain": [
       "<Figure size 504x360 with 1 Axes>"
      ]
     },
     "execution_count": 5,
     "metadata": {},
     "output_type": "execute_result"
    }
   ],
   "source": [
    "backend = BasicAer.get_backend('qasm_simulator')\n",
    "shots = 1024\n",
    "dj_circuit = dj_algorithm(n)\n",
    "results = execute(dj_circuit, backend = backend, shots= shots).result()\n",
    "answer = results.get_counts()\n",
    "\n",
    "plot_histogram(answer)"
   ]
  },
  {
   "cell_type": "code",
   "execution_count": 6,
   "id": "972b7e85",
   "metadata": {},
   "outputs": [
    {
     "name": "stdout",
     "output_type": "stream",
     "text": [
      "least busy backend:  ibmq_belem\n"
     ]
    },
    {
     "data": {
      "application/vnd.jupyter.widget-view+json": {
       "model_id": "547c45d5c62a4fe2bbec9ba7bb587736",
       "version_major": 2,
       "version_minor": 0
      },
      "text/plain": [
       "Accordion(children=(VBox(layout=Layout(max_width='710px', min_width='710px')),), layout=Layout(max_height='500…"
      ]
     },
     "metadata": {},
     "output_type": "display_data"
    },
    {
     "data": {
      "application/javascript": [
       "\n",
       "        const isLab = window['Jupyter'] === undefined;\n",
       "        const notebook = document.querySelector( isLab ? 'div.jp-Notebook' : '#site');\n",
       "        const jobWidget = document.querySelector('div.job_widget');\n",
       "        notebook.prepend(jobWidget);\n",
       "        jobWidget.style.zIndex = '999';\n",
       "        jobWidget.style.position = isLab ? 'sticky' : 'fixed';\n",
       "        jobWidget.style.boxShadow = '5px 5px 5px -3px black';\n",
       "        jobWidget.style.opacity = '0.95';\n",
       "        if (isLab) {\n",
       "            jobWidget.style.top = '0';\n",
       "            jobWidget.style.left = '0';\n",
       "        }\n",
       "        "
      ],
      "text/plain": [
       "<IPython.core.display.Javascript object>"
      ]
     },
     "metadata": {},
     "output_type": "display_data"
    }
   ],
   "source": [
    "backend = least_busy(provider.backends(filters = lambda x: x.configuration().n_qubits >= (n+1) and\n",
    "                                      not x.configuration().simulator and x.status().operational==True))\n",
    "print(\"least busy backend: \", backend)\n",
    "%qiskit_job_watcher\n",
    "dj_circuit = dj_algorithm(n)\n",
    "job = execute(dj_circuit, backend = backend, shots = 1024, optimization_level = 3)"
   ]
  },
  {
   "cell_type": "code",
   "execution_count": null,
   "id": "c9956c41",
   "metadata": {},
   "outputs": [],
   "source": []
  }
 ],
 "metadata": {
  "kernelspec": {
   "display_name": "Python 3 (ipykernel)",
   "language": "python",
   "name": "python3"
  },
  "language_info": {
   "codemirror_mode": {
    "name": "ipython",
    "version": 3
   },
   "file_extension": ".py",
   "mimetype": "text/x-python",
   "name": "python",
   "nbconvert_exporter": "python",
   "pygments_lexer": "ipython3",
   "version": "3.8.13"
  },
  "widgets": {
   "application/vnd.jupyter.widget-state+json": {
    "state": {
     "001983da244e4bbd97352efc87d423ce": {
      "model_module": "@jupyter-widgets/controls",
      "model_module_version": "1.5.0",
      "model_name": "ButtonStyleModel",
      "state": {
       "button_color": "white"
      }
     },
     "07b59a3688654555b0bc7fe26070128e": {
      "model_module": "@jupyter-widgets/controls",
      "model_module_version": "1.5.0",
      "model_name": "HTMLModel",
      "state": {
       "layout": "IPY_MODEL_11fb3be3674b47ee926702e545b3041c",
       "style": "IPY_MODEL_9aa3e2d46e1b4e33804758d6513eb0df",
       "value": "<h5>Status</h5>"
      }
     },
     "08e4862b18e14a7a832a53e1a6b7464a": {
      "model_module": "@jupyter-widgets/base",
      "model_module_version": "1.2.0",
      "model_name": "LayoutModel",
      "state": {
       "margin": "0px 0px 0px 37px",
       "width": "600px"
      }
     },
     "0ffa1d67d5aa42e2ba9193cdedae5e4b": {
      "model_module": "@jupyter-widgets/controls",
      "model_module_version": "1.5.0",
      "model_name": "DescriptionStyleModel",
      "state": {
       "description_width": ""
      }
     },
     "11fb3be3674b47ee926702e545b3041c": {
      "model_module": "@jupyter-widgets/base",
      "model_module_version": "1.2.0",
      "model_name": "LayoutModel",
      "state": {
       "width": "95px"
      }
     },
     "17c3f2ff725f47488e1f752bc4b92ef8": {
      "model_module": "@jupyter-widgets/base",
      "model_module_version": "1.2.0",
      "model_name": "LayoutModel",
      "state": {
       "max_width": "710px",
       "min_width": "710px"
      }
     },
     "1d0e3792be824e29939b82f127da6702": {
      "model_module": "@jupyter-widgets/base",
      "model_module_version": "1.2.0",
      "model_name": "LayoutModel",
      "state": {
       "width": "145px"
      }
     },
     "220a5ada105346fba3bcb1a759a162cd": {
      "model_module": "@jupyter-widgets/controls",
      "model_module_version": "1.5.0",
      "model_name": "DescriptionStyleModel",
      "state": {
       "description_width": ""
      }
     },
     "30a8fb6698054d05a77fdbfa43db2b45": {
      "model_module": "@jupyter-widgets/controls",
      "model_module_version": "1.5.0",
      "model_name": "DescriptionStyleModel",
      "state": {
       "description_width": ""
      }
     },
     "3206e50ac2bc4995bd25a45a27459468": {
      "model_module": "@jupyter-widgets/controls",
      "model_module_version": "1.5.0",
      "model_name": "HTMLModel",
      "state": {
       "layout": "IPY_MODEL_481624f2f5544ba3b4848c4930b34fc8",
       "style": "IPY_MODEL_30a8fb6698054d05a77fdbfa43db2b45",
       "value": "<p style='font-family: IBM Plex Sans, Arial, Helvetica, sans-serif; font-size: 20px; font-weight: medium;'>Circuit Properties</p>"
      }
     },
     "3540c839aa994b4996de1d6863e7e87b": {
      "model_module": "@jupyter-widgets/controls",
      "model_module_version": "1.5.0",
      "model_name": "DescriptionStyleModel",
      "state": {
       "description_width": ""
      }
     },
     "3cf16cfd41ac4f1c8998e8a37aaf2606": {
      "model_module": "@jupyter-widgets/controls",
      "model_module_version": "1.5.0",
      "model_name": "ButtonModel",
      "state": {
       "icon": "close",
       "layout": "IPY_MODEL_c6570b5265b149d1885dc9dd821680cd",
       "style": "IPY_MODEL_001983da244e4bbd97352efc87d423ce"
      }
     },
     "3f4238d564664f139b9dda736eb913f8": {
      "model_module": "@jupyter-widgets/controls",
      "model_module_version": "1.5.0",
      "model_name": "HTMLModel",
      "state": {
       "layout": "IPY_MODEL_c3a4f02900044890a05d349e7462bf1f",
       "style": "IPY_MODEL_d69d983012814d24b82ca0f7cde1b953",
       "value": "<h5>Message</h5>"
      }
     },
     "4046a070d9794aa7bf22c6e881988afb": {
      "model_module": "@jupyter-widgets/base",
      "model_module_version": "1.2.0",
      "model_name": "LayoutModel",
      "state": {
       "width": "145px"
      }
     },
     "481624f2f5544ba3b4848c4930b34fc8": {
      "model_module": "@jupyter-widgets/base",
      "model_module_version": "1.2.0",
      "model_name": "LayoutModel",
      "state": {
       "margin": "0px 0px 10px 0px"
      }
     },
     "4e19a743ecff4039a8697cfe37f04203": {
      "model_module": "@jupyter-widgets/base",
      "model_module_version": "1.2.0",
      "model_name": "LayoutModel",
      "state": {
       "width": "190px"
      }
     },
     "547c45d5c62a4fe2bbec9ba7bb587736": {
      "model_module": "@jupyter-widgets/controls",
      "model_module_version": "1.5.0",
      "model_name": "AccordionModel",
      "state": {
       "_dom_classes": [
        "job_widget"
       ],
       "_titles": {
        "0": "IBMQ Jobs"
       },
       "children": [
        "IPY_MODEL_9dd42e09f15b413c9106f7427c1a84d5"
       ],
       "layout": "IPY_MODEL_547da38b65474984ad3945469c0fd315",
       "selected_index": null
      }
     },
     "547da38b65474984ad3945469c0fd315": {
      "model_module": "@jupyter-widgets/base",
      "model_module_version": "1.2.0",
      "model_name": "LayoutModel",
      "state": {
       "max_height": "500px",
       "max_width": "750px",
       "overflow_x": "hidden",
       "overflow_y": "scroll",
       "visibility": "visible",
       "width": "auto"
      }
     },
     "5530684d6d8b41918fb4ee442246e0d6": {
      "model_module": "@jupyter-widgets/base",
      "model_module_version": "1.2.0",
      "model_name": "LayoutModel",
      "state": {
       "overflow_x": "scroll"
      }
     },
     "56e770b4ab3a4f3c8f7f3f69f14483ef": {
      "model_module": "@jupyter-widgets/controls",
      "model_module_version": "1.5.0",
      "model_name": "DescriptionStyleModel",
      "state": {
       "description_width": ""
      }
     },
     "5e46de1641ae447daf77946e21039aca": {
      "model_module": "@jupyter-widgets/controls",
      "model_module_version": "1.5.0",
      "model_name": "HBoxModel",
      "state": {
       "children": [
        "IPY_MODEL_90f5ac8901be4a6a8c5f229e86d7b950",
        "IPY_MODEL_bcfa093182f2457d9a09de3e49b0b8b8",
        "IPY_MODEL_07b59a3688654555b0bc7fe26070128e",
        "IPY_MODEL_fbb52510911f4c88bab8215a72854663",
        "IPY_MODEL_3f4238d564664f139b9dda736eb913f8"
       ],
       "layout": "IPY_MODEL_08e4862b18e14a7a832a53e1a6b7464a"
      }
     },
     "69ada02c00ac4050a085ee23c8d9d859": {
      "model_module": "@jupyter-widgets/controls",
      "model_module_version": "1.5.0",
      "model_name": "DescriptionStyleModel",
      "state": {
       "description_width": ""
      }
     },
     "6f30e78b362747f38b2295833202d085": {
      "model_module": "@jupyter-widgets/base",
      "model_module_version": "1.2.0",
      "model_name": "LayoutModel",
      "state": {
       "width": "70px"
      }
     },
     "7179931d23ba4e05acf8b79ffb12f085": {
      "model_module": "@jupyter-widgets/base",
      "model_module_version": "1.2.0",
      "model_name": "LayoutModel",
      "state": {
       "grid_template_areas": "\n                                       \". . . . right \"\n                                        ",
       "grid_template_columns": "20% 20% 20% 20% 20%",
       "width": "100%"
      }
     },
     "74bf6880c05844afb76809a55d2be7b0": {
      "model_module": "@jupyter-widgets/base",
      "model_module_version": "1.2.0",
      "model_name": "LayoutModel",
      "state": {
       "width": "95px"
      }
     },
     "79dac2ec4ca7459b99005c6d266723cb": {
      "model_module": "@jupyter-widgets/controls",
      "model_module_version": "1.5.0",
      "model_name": "HTMLModel",
      "state": {
       "layout": "IPY_MODEL_74bf6880c05844afb76809a55d2be7b0",
       "style": "IPY_MODEL_7d87168cbf70407eb9c5376aadeb767d",
       "value": "<font style='color:#34BC6E'>DONE</font>"
      }
     },
     "7d87168cbf70407eb9c5376aadeb767d": {
      "model_module": "@jupyter-widgets/controls",
      "model_module_version": "1.5.0",
      "model_name": "DescriptionStyleModel",
      "state": {
       "description_width": ""
      }
     },
     "873d4b16478246498a5694bb727cd30a": {
      "model_module": "@jupyter-widgets/base",
      "model_module_version": "1.2.0",
      "model_name": "LayoutModel",
      "state": {
       "grid_area": "right",
       "padding": "0px 0px 0px 0px",
       "width": "70px"
      }
     },
     "87e9073067cb4ebd8c295e1d830bda2d": {
      "model_module": "@jupyter-widgets/base",
      "model_module_version": "1.2.0",
      "model_name": "LayoutModel",
      "state": {
       "max_width": "700px",
       "min_width": "700px"
      }
     },
     "90f5ac8901be4a6a8c5f229e86d7b950": {
      "model_module": "@jupyter-widgets/controls",
      "model_module_version": "1.5.0",
      "model_name": "HTMLModel",
      "state": {
       "layout": "IPY_MODEL_4e19a743ecff4039a8697cfe37f04203",
       "style": "IPY_MODEL_56e770b4ab3a4f3c8f7f3f69f14483ef",
       "value": "<h5>Job ID</h5>"
      }
     },
     "9aa3e2d46e1b4e33804758d6513eb0df": {
      "model_module": "@jupyter-widgets/controls",
      "model_module_version": "1.5.0",
      "model_name": "DescriptionStyleModel",
      "state": {
       "description_width": ""
      }
     },
     "9d1f0c3bdb9a4669babbfef069f1b0dd": {
      "model_module": "@jupyter-widgets/base",
      "model_module_version": "1.2.0",
      "model_name": "LayoutModel",
      "state": {
       "width": "70px"
      }
     },
     "9dbad22cf4594952bc158a2b945b476e": {
      "model_module": "@jupyter-widgets/base",
      "model_module_version": "1.2.0",
      "model_name": "LayoutModel",
      "state": {
       "width": "190px"
      }
     },
     "9dd42e09f15b413c9106f7427c1a84d5": {
      "model_module": "@jupyter-widgets/controls",
      "model_module_version": "1.5.0",
      "model_name": "VBoxModel",
      "state": {
       "children": [
        "IPY_MODEL_ab08039cf91b4d388747122e81b43c79",
        "IPY_MODEL_5e46de1641ae447daf77946e21039aca"
       ],
       "layout": "IPY_MODEL_17c3f2ff725f47488e1f752bc4b92ef8"
      }
     },
     "ab08039cf91b4d388747122e81b43c79": {
      "model_module": "@jupyter-widgets/controls",
      "model_module_version": "1.5.0",
      "model_name": "GridBoxModel",
      "state": {
       "children": [
        "IPY_MODEL_b3d1c2a2341f4f4a83db9d16e6925970"
       ],
       "layout": "IPY_MODEL_7179931d23ba4e05acf8b79ffb12f085"
      }
     },
     "b3d1c2a2341f4f4a83db9d16e6925970": {
      "model_module": "@jupyter-widgets/controls",
      "model_module_version": "1.5.0",
      "model_name": "ButtonModel",
      "state": {
       "button_style": "primary",
       "description": "Clear",
       "layout": "IPY_MODEL_873d4b16478246498a5694bb727cd30a",
       "style": "IPY_MODEL_d5a248cbf05c4f849f034f24591f3eb8"
      }
     },
     "bcfa093182f2457d9a09de3e49b0b8b8": {
      "model_module": "@jupyter-widgets/controls",
      "model_module_version": "1.5.0",
      "model_name": "HTMLModel",
      "state": {
       "layout": "IPY_MODEL_1d0e3792be824e29939b82f127da6702",
       "style": "IPY_MODEL_3540c839aa994b4996de1d6863e7e87b",
       "value": "<h5>Backend</h5>"
      }
     },
     "bd6af419b0864735a6c5083cf0a854d6": {
      "model_module": "@jupyter-widgets/controls",
      "model_module_version": "1.5.0",
      "model_name": "DescriptionStyleModel",
      "state": {
       "description_width": ""
      }
     },
     "c3a4f02900044890a05d349e7462bf1f": {
      "model_module": "@jupyter-widgets/base",
      "model_module_version": "1.2.0",
      "model_name": "LayoutModel",
      "state": {}
     },
     "c6570b5265b149d1885dc9dd821680cd": {
      "model_module": "@jupyter-widgets/base",
      "model_module_version": "1.2.0",
      "model_name": "LayoutModel",
      "state": {
       "margin": "0px 5px 0px 0px",
       "width": "32px"
      }
     },
     "d59552e03f57410bbb21a88f9663adfa": {
      "model_module": "@jupyter-widgets/controls",
      "model_module_version": "1.5.0",
      "model_name": "HTMLModel",
      "state": {
       "layout": "IPY_MODEL_4046a070d9794aa7bf22c6e881988afb",
       "style": "IPY_MODEL_0ffa1d67d5aa42e2ba9193cdedae5e4b",
       "value": "ibmq_belem"
      }
     },
     "d5a248cbf05c4f849f034f24591f3eb8": {
      "model_module": "@jupyter-widgets/controls",
      "model_module_version": "1.5.0",
      "model_name": "ButtonStyleModel",
      "state": {}
     },
     "d69d983012814d24b82ca0f7cde1b953": {
      "model_module": "@jupyter-widgets/controls",
      "model_module_version": "1.5.0",
      "model_name": "DescriptionStyleModel",
      "state": {
       "description_width": ""
      }
     },
     "dc2495c3cfee4f5790854628246af449": {
      "model_module": "@jupyter-widgets/controls",
      "model_module_version": "1.5.0",
      "model_name": "HTMLModel",
      "state": {
       "layout": "IPY_MODEL_9d1f0c3bdb9a4669babbfef069f1b0dd",
       "style": "IPY_MODEL_bd6af419b0864735a6c5083cf0a854d6",
       "value": "-"
      }
     },
     "de34c691a55c4ba4be5665b06146823c": {
      "model_module": "@jupyter-widgets/controls",
      "model_module_version": "1.5.0",
      "model_name": "HTMLModel",
      "state": {
       "layout": "IPY_MODEL_9dbad22cf4594952bc158a2b945b476e",
       "style": "IPY_MODEL_220a5ada105346fba3bcb1a759a162cd",
       "value": "62a49ccc12aac363dc0be03b"
      }
     },
     "f1fccbe9e9ac426794723c77e0ac0e09": {
      "model_module": "@jupyter-widgets/controls",
      "model_module_version": "1.5.0",
      "model_name": "DescriptionStyleModel",
      "state": {
       "description_width": ""
      }
     },
     "f76949e16b184bbfad5325601e2d2fef": {
      "model_module": "@jupyter-widgets/controls",
      "model_module_version": "1.5.0",
      "model_name": "HTMLModel",
      "state": {
       "layout": "IPY_MODEL_5530684d6d8b41918fb4ee442246e0d6",
       "style": "IPY_MODEL_69ada02c00ac4050a085ee23c8d9d859",
       "value": "job has successfully run"
      }
     },
     "fbb52510911f4c88bab8215a72854663": {
      "model_module": "@jupyter-widgets/controls",
      "model_module_version": "1.5.0",
      "model_name": "HTMLModel",
      "state": {
       "layout": "IPY_MODEL_6f30e78b362747f38b2295833202d085",
       "style": "IPY_MODEL_f1fccbe9e9ac426794723c77e0ac0e09",
       "value": "<h5>Queue</h5>"
      }
     }
    },
    "version_major": 2,
    "version_minor": 0
   }
  }
 },
 "nbformat": 4,
 "nbformat_minor": 5
}
