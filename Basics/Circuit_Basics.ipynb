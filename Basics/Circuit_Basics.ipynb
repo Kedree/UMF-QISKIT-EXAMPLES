{
 "cells": [
  {
   "cell_type": "code",
   "execution_count": 32,
   "id": "97320f71-61c1-4f83-83b6-68891252db40",
   "metadata": {},
   "outputs": [
    {
     "name": "stderr",
     "output_type": "stream",
     "text": [
      "ibmqfactory.load_account:WARNING:2022-06-15 20:38:54,998: Credentials are already in use. The existing account in the session will be replaced.\n"
     ]
    }
   ],
   "source": [
    "import numpy as np\n",
    "\n",
    "# Importing standard Qiskit libraries\n",
    "from qiskit import *\n",
    "from qiskit.circuit import *\n",
    "from qiskit.tools.jupyter import *\n",
    "from qiskit.visualization import *\n",
    "from ibm_quantum_widgets import *\n",
    "from qiskit.providers.aer import QasmSimulator\n",
    "\n",
    "# Loading your IBM Quantum account(s)\n",
    "provider = IBMQ.load_account()"
   ]
  },
  {
   "cell_type": "markdown",
   "id": "ede4ccec-34f1-47e0-bba5-9d0265646e11",
   "metadata": {
    "tags": []
   },
   "source": [
    "\n",
    "# **Basic Quantum Circuit Creation ([LINK](https://qiskit.org/documentation/stubs/qiskit.circuit.QuantumCircuit.html#qiskit.circuit.QuantumCircuit))**\n",
    "Quantum Circuits are the most important part of quantum computation. There are two methods for making a quantum circuit. We will start out with the simpler method as shown below:\n",
    "```\n",
    "'Circuit Code Name' = QuantumCircuit('# of Qubits', '# of Classical Bits', name = 'circuit name'...)\n",
    "``` \n",
    "The above  code creates a quantum circuit, the three ' ' (aka parameters) inside the Quantum Circuit method are used to specify how to make the circuit. # of Qubits is basically neccesary, whereas the classical bits and name are optional, there are other parameters that are optional ([LINK](https://qiskit.org/documentation/stubs/qiskit.circuit.QuantumCircuit.html#qiskit.circuit.QuantumCircuit) ) are and mostly unused.\n",
    "\n",
    "An extrememly simple example of a quantum circuit is given below:"
   ]
  },
  {
   "cell_type": "code",
   "execution_count": 3,
   "id": "0a8b7bf5-81f3-4b1e-ac62-617b919b2e1f",
   "metadata": {},
   "outputs": [
    {
     "data": {
      "image/png": "[encoded data removed]",
      "text/plain": [
       "<Figure size 116.552x144.48 with 1 Axes>"
      ]
     },
     "execution_count": 3,
     "metadata": {},
     "output_type": "execute_result"
    }
   ],
   "source": [
    "qc = QuantumCircuit(2)\n",
    "\n",
    "qc.draw()"
   ]
  },
  {
   "cell_type": "markdown",
   "id": "379bee1e-3cdc-4503-9d0b-403e96404eec",
   "metadata": {},
   "source": [
    "Above we can see that we are making a quantum circuit with the code name of qc that has two qubits.\n",
    "q0 refers to qubit 0 and q1 refers to qubit 1; as we can see, there are two qubits.\n",
    "The draw method will be explained later.\n",
    "\n",
    "Below is a more complex example with classical bits and a circuit name, classical bits allow for measuring states in the computational basis (0's and 1's) or sometimes math (the name is not important, just be consistent):"
   ]
  },
  {
   "cell_type": "code",
   "execution_count": 4,
   "id": "294b99b8-250e-4bf6-be98-3e980dd79ecb",
   "metadata": {},
   "outputs": [
    {
     "data": {
      "image/png": "[encoded data removed]",
      "text/plain": [
       "<Figure size 116.697x264.88 with 1 Axes>"
      ]
     },
     "execution_count": 4,
     "metadata": {},
     "output_type": "execute_result"
    }
   ],
   "source": [
    "qc_complex = QuantumCircuit(3, 2, name = 'My Complex Circuit')\n",
    "\n",
    "qc_complex.draw()"
   ]
  },
  {
   "cell_type": "markdown",
   "id": "ca25ea65-42ab-4b97-8740-817cf54bfabb",
   "metadata": {},
   "source": [
    "The classical bits are collated as no work is done directly to the classical bits."
   ]
  },
  {
   "cell_type": "markdown",
   "id": "69d65a0b-4559-4034-8eb9-9f3c359d46e3",
   "metadata": {},
   "source": [
    "# **Advanced Circuit Creation**\n",
    "## **Register Basics ([Q LINK](https://qiskit.org/documentation/stubs/qiskit.circuit.QuantumRegister.html)) ([C LINK](https://qiskit.org/documentation/stubs/qiskit.circuit.ClassicalRegister.html))**\n",
    "\n",
    "Instead of just giving the number of qubits, you can give it something called registers.\n",
    "\n",
    "Registers are collections of bits with more customizability compared to just a number of bits, the code is given below:\n",
    "```\n",
    "'Quantum Register Code Name' = QuantumRegister('# of Qubits', name = 'Bit Name', bits = 'List of bits')\n",
    "```\n",
    "and\n",
    "```\n",
    "'Classical Register Code Name' = ClassicalRegister('# of Bits', name = 'Bit Name', bits = 'List of bits')\n",
    "```\n",
    "\n",
    "Here, the number of bits is like before. The name is a bit more different and useful, however as it changes the name in the draw method. An example will be given below. The bits section allows you to add individual bits to the register, not sure how useful this is *(Needs validation)*\n",
    "\n",
    "After creating the registers, they can be used to make a circuit as such:\n",
    "```\n",
    "'Quantum Circuit Code Name' = QuantumCircuit('List of Quantum Registers', 'List of Classical Registers'...)\n",
    "```"
   ]
  },
  {
   "cell_type": "code",
   "execution_count": 15,
   "id": "2118dade-bf2f-4402-816b-b4534adf5ba5",
   "metadata": {},
   "outputs": [
    {
     "data": {
      "image/png": "[encoded data removed]",
      "text/plain": [
       "<Figure size 129.823x204.68 with 1 Axes>"
      ]
     },
     "execution_count": 15,
     "metadata": {},
     "output_type": "execute_result"
    }
   ],
   "source": [
    "qr_simple = QuantumRegister(2)\n",
    "\n",
    "cr_simple = ClassicalRegister(2)\n",
    "\n",
    "qc_simple = QuantumCircuit(qr_simple, cr_simple, name = 'My Simple Quantum Circuit')\n",
    "\n",
    "qc_simple.draw()"
   ]
  },
  {
   "cell_type": "markdown",
   "id": "76a32320-2f73-433f-9a46-d37801e183e7",
   "metadata": {},
   "source": [
    "Below is a more complex example that utilizes the increased customizability:"
   ]
  },
  {
   "cell_type": "code",
   "execution_count": 30,
   "id": "8ad25069-e4be-4dba-a519-448bf9aef64e",
   "metadata": {},
   "outputs": [
    {
     "data": {
      "image/png": "[encoded data removed]",
      "text/plain": [
       "<Figure size 222.834x445.48 with 1 Axes>"
      ]
     },
     "execution_count": 30,
     "metadata": {},
     "output_type": "execute_result"
    }
   ],
   "source": [
    "qr_complex_1 = QuantumRegister(3, name = 'a')\n",
    "\n",
    "qr_complex_2 = QuantumRegister(2, name = 'b')\n",
    "\n",
    "cr_complex_1 = ClassicalRegister(5, name = 'classical bits')\n",
    "\n",
    "cr_complex_2 = ClassicalRegister(3, name = 'math bits')\n",
    "\n",
    "qc_complex = QuantumCircuit(qr_complex_1, qr_complex_2, cr_complex_1, cr_complex_2, name = 'My Complex Register Circuit')\n",
    "\n",
    "qc_complex.draw()"
   ]
  },
  {
   "cell_type": "markdown",
   "id": "1af4e48f-4465-493c-8bfe-a5fd1f8db5e1",
   "metadata": {},
   "source": [
    "Notice how the qubits have different names in the circuit representation, a<sub>0</sub>, <sub>1</sub>, a<sub>2</sub>, b<sub>0</sub>, b<sub>1</sub>, classical bits, and math bits. These changes are almost entirely cosmetic.\n",
    "\n",
    "(**NOTE** the name can never contain a capital letter first)"
   ]
  },
  {
   "cell_type": "markdown",
   "id": "fc712af3-f6f2-4154-92dc-4761e5289a0f",
   "metadata": {},
   "source": [
    "## **The Qubit ***in Universum*****\n",
    "\n",
    "Creating indivdual qubits has not been used so far by our team but nonetheless here it is:\n",
    "\n",
    "```\n",
    "'Qubit Code Name' = Qubit('Register to be assigned to', 'Where in the register to place')\n",
    "```\n",
    "\n",
    "### **Qubit Attributes**\n",
    "\n",
    "```\n",
    "'Qubit Code Name'.register\n",
    "```\n",
    "Returns the register of the qubit\n",
    "```\n",
    "'Qubit Code Name'.index\n",
    "```\n",
    "Returns the index of a qubit in its register\n"
   ]
  },
  {
   "cell_type": "code",
   "execution_count": 39,
   "id": "c16669b4-0170-488b-83fc-1216184e3d60",
   "metadata": {},
   "outputs": [
    {
     "name": "stdout",
     "output_type": "stream",
     "text": [
      "QuantumRegister(2, 'q9')\n",
      "0\n",
      "Qubit 2 belongs to register QuantumRegister(2, 'q9') at index  1\n"
     ]
    },
    {
     "name": "stderr",
     "output_type": "stream",
     "text": [
      "/tmp/ipykernel_76/4214377669.py:8: DeprecationWarning: Back-references to from Bit instances to their containing Registers have been deprecated. Instead, inspect Registers to find their contained Bits.\n",
      "  print(qubit_1.register)\n",
      "/tmp/ipykernel_76/4214377669.py:9: DeprecationWarning: Back-references to from Bit instances to their containing Registers have been deprecated. Instead, inspect Registers to find their contained Bits.\n",
      "  print(qubit_1.index)\n",
      "/tmp/ipykernel_76/4214377669.py:10: DeprecationWarning: Back-references to from Bit instances to their containing Registers have been deprecated. Instead, inspect Registers to find their contained Bits.\n",
      "  print(\"Qubit 2 belongs to register %s at index %2d\" % (qubit_2.register, qubit_2.index))\n"
     ]
    },
    {
     "data": {
      "image/png": "[encoded data removed]",
      "text/plain": [
       "<Figure size 129.823x144.48 with 1 Axes>"
      ]
     },
     "execution_count": 39,
     "metadata": {},
     "output_type": "execute_result"
    }
   ],
   "source": [
    "silly_Register = QuantumRegister(2)\n",
    "\n",
    "qubit_1 = Qubit(silly_Register, 0)\n",
    "qubit_2 = Qubit(silly_Register, 1)\n",
    "\n",
    "silly_Circuit = QuantumCircuit(silly_Register)\n",
    "\n",
    "print(qubit_1.register)\n",
    "print(qubit_1.index)\n",
    "print(\"Qubit 2 belongs to register %s at index %2d\" % (qubit_2.register, qubit_2.index))\n",
    "\n",
    "silly_Circuit.draw()"
   ]
  },
  {
   "cell_type": "markdown",
   "id": "c101ac8a-5b52-4482-9100-54f28e0df25e",
   "metadata": {},
   "source": [
    "The deprecation errors seem to indicate that this is not very useful and the register should be inspected, not the individual qubits, lets get to it!"
   ]
  },
  {
   "cell_type": "markdown",
   "id": "4537de48-c714-4262-bb87-745abdaa217d",
   "metadata": {},
   "source": [
    "## **Register Attributes**\n",
    "\n",
    "### **Name**\n",
    "Registers have a couple of useful attributes as such:\n",
    "```\n",
    "'Register Code Name'.name\n",
    "```\n",
    "### **Prefix**\n",
    "Returns the name of each qubit, ironically this is the \"prefix\" when drawing the circuit\n",
    "```\n",
    "'Register Code Name'.prefix\n",
    "```\n",
    "### **Size**\n",
    "Seems to return the type of circuit, either q for quantum or c for classical (**Need Verification**)\n",
    "```\n",
    "'Register Code Name'.size\n",
    "```\n",
    "Returns the number of bits in the register (*very useful for iteration!*)\n",
    "\n",
    "There are others that are a bit esoteric in the following link ([LINK](https://qiskit.org/documentation/stubs/qiskit.circuit.QuantumRegister.html))\n",
    "\n",
    "Below are some examples using the complex registers made earlier, as with any attribute, when calling it you recieve the value, it is not a method that does something and as such you should print it:"
   ]
  },
  {
   "cell_type": "code",
   "execution_count": 41,
   "id": "2c6b6552-6d05-4e68-9aa2-9ffd2c0506e8",
   "metadata": {},
   "outputs": [
    {
     "name": "stdout",
     "output_type": "stream",
     "text": [
      "a\n",
      "q\n",
      "3\n",
      "The register has the name of classical bits, is of type c, and is of size  5\n"
     ]
    }
   ],
   "source": [
    "print(qr_complex_1.name)\n",
    "\n",
    "print(qr_complex_1.prefix)\n",
    "\n",
    "print(qr_complex_1.size)\n",
    "\n",
    "print(\"The register has the name of %s, is of type %s, and is of size %2d\" % (cr_complex_1.name, cr_complex_1.prefix, cr_complex_1.size))"
   ]
  },
  {
   "cell_type": "markdown",
   "id": "df573102-c5ac-49ef-b06c-c7a51ee8bf3d",
   "metadata": {},
   "source": [
    "## **Register Methods**\n",
    "### **Index**\n",
    "Registers have very few methods of which we have never used:\n",
    "```\n",
    "'Register Code Name'.index('Individual Bit you are searching for')\n",
    "```\n",
    "This gets the position of a particular bit in a register\n",
    "### **QASM Code**\n",
    "```\n",
    "'Register Code Name'.qasm()\n",
    "```\n",
    "Returns the qasm string (*Needs more info*)\n",
    "\n",
    "Here are some examples using the silly registers made before:"
   ]
  },
  {
   "cell_type": "code",
   "execution_count": 48,
   "id": "0517cbae-22c1-41ad-a41f-7abc92ba5e79",
   "metadata": {},
   "outputs": [
    {
     "name": "stdout",
     "output_type": "stream",
     "text": [
      "1\n"
     ]
    },
    {
     "data": {
      "text/plain": [
       "'qreg q9[2];'"
      ]
     },
     "execution_count": 48,
     "metadata": {},
     "output_type": "execute_result"
    }
   ],
   "source": [
    "print(silly_Register.index(qubit_2))\n",
    "\n",
    "silly_Register.qasm()"
   ]
  },
  {
   "cell_type": "markdown",
   "id": "1bd7afe6-f6e5-41d9-9953-ec775a4e2a68",
   "metadata": {},
   "source": [
    "## **Quantum Circuit Attributes**\n",
    "\n",
    "Here is just a couple that seem useful, there are many more in this link ([LINK](https://qiskit.org/documentation/stubs/qiskit.circuit.QuantumCircuit.html#qiskit.circuit.QuantumCircuit)):\n",
    "### **List of Classical Bits**\n",
    "```\n",
    "'Circuit Code Name'.clbits\n",
    "```\n",
    "Returns a list of the classical bits\n",
    "### **List of Qubits**\n",
    "```\n",
    "'Circuit Code Name'.qubits\n",
    "```\n",
    "Returns a list of the qubits\n",
    "### **Number of Classical Bits**\n",
    "```\n",
    "'Circuit Code Name'.num_clbits\n",
    "```\n",
    "Returns the number of classical bits\n",
    "### **Number of Qubits**\n",
    "```\n",
    "'Circuit Code Name'.num_qbits\n",
    "```\n",
    "Returns the number of quantum bits (*Very Useful!*)\n",
    "### **Name**\n",
    "```\n",
    "'Circuit Code Name'.name\n",
    "```\n",
    "Returns the name of the circuit\n",
    "### **Data**\n",
    "```\n",
    "'Circuit Code Name'.data\n",
    "```\n",
    "Returns a lot of information about the circuit such as (*Need more info*)\n",
    "\n",
    "Examples are given below using a new made up circuit:"
   ]
  },
  {
   "cell_type": "code",
   "execution_count": 56,
   "id": "96ea04fa-6de4-48e1-b3b1-558c893c2c65",
   "metadata": {},
   "outputs": [
    {
     "name": "stdout",
     "output_type": "stream",
     "text": [
      "The Cool Circuit has  2 classical bits and  2 quantum bits\n"
     ]
    }
   ],
   "source": [
    "attribute_Circuit = QuantumCircuit(2,2, name = \"Cool Circuit\")\n",
    "\n",
    "print(\"The %s has %2d classical bits and %2d quantum bits\" % (attribute_Circuit.name, attribute_Circuit.num_clbits, attribute_Circuit.num_qubits))"
   ]
  },
  {
   "cell_type": "markdown",
   "id": "b49c4f16-feab-4f63-9bbe-f70d7fc5d0e6",
   "metadata": {},
   "source": [
    "As the .qubits method returns a list of qubits in the circuit, we can chain commands or do something specific to a qubit as shown below:"
   ]
  },
  {
   "cell_type": "code",
   "execution_count": 58,
   "id": "5e698f26-5dcc-4ed2-8a8a-5506bf55958f",
   "metadata": {},
   "outputs": [
    {
     "name": "stdout",
     "output_type": "stream",
     "text": [
      "QuantumRegister(2, 'q')\n"
     ]
    },
    {
     "name": "stderr",
     "output_type": "stream",
     "text": [
      "/tmp/ipykernel_76/1630621146.py:1: DeprecationWarning: Back-references to from Bit instances to their containing Registers have been deprecated. Instead, inspect Registers to find their contained Bits.\n",
      "  print(attribute_Circuit.qubits[0].register)\n"
     ]
    }
   ],
   "source": [
    "print(attribute_Circuit.qubits[0].register)"
   ]
  },
  {
   "cell_type": "markdown",
   "id": "4b3623c6-9cbb-4f2c-ab6a-d6a88afb0ad6",
   "metadata": {},
   "source": [
    "It doesn't seem to be useful in this case as not much can be done directly to the individual qubits but keep in mind this style of thinking for later."
   ]
  },
  {
   "cell_type": "markdown",
   "id": "7b663f7b-37ae-4f2a-9ebe-8a614f9ed927",
   "metadata": {},
   "source": [
    "## **Quantum Circuit Methods**\n",
    "\n",
    "The methods listed here are just general purpose methods that specifically are not involved with creating gates and representation. The following links will take you to them:\n",
    "([GATE LINK]()) and ([REPRESENTATION LINK]())\n",
    "### **Add Bits**\n",
    "```\n",
    "'Circuit Code Name'.add_bits('List of Bit Code Names')\n",
    "```\n",
    "Adds individual bits to the circuit\n",
    "### **Add a register(*s?*)**\n",
    "```\n",
    "'Circuit Code Name'.add_register('Register Code Name')\n",
    "```\n",
    "Adds a register to the circuit (*may be able to do multiple, needs more info*)\n",
    "### **Copy**\n",
    "```\n",
    "'Circuit Code Name'.copy(name = 'Name to be given to the copy')\n",
    "```\n",
    "Returns a copy of the circuit 'Circuit Code Name'\n",
    "### **Depth**\n",
    "```\n",
    "'Circuit Code Name'.depth('List of bits')\n",
    "```\n",
    "(*Needs more info*)\n",
    "### **For Loop**\n",
    "```\n",
    "'Circuit Code Name'.for_loop(see link)\n",
    "```\n",
    "Seems very useful, see ([LINK](https://qiskit.org/documentation/stubs/qiskit.circuit.QuantumCircuit.for_loop.html#qiskit.circuit.QuantumCircuit.for_loop))\n",
    "### **Hamiltonian**\n",
    "```\n",
    "'Circuit Code Name'.hamiltonian('Operator', 'Time', Qubits)\n",
    "```\n",
    "(*Needs more info*)\n",
    "### **Check if Has Register**\n",
    "```\n",
    "'Circuit Code Name'.has_register('Register Code Name')\n",
    "```\n",
    "Returns a true or false on whether or not a circuit has a particular register\n",
    "### **Initialize**\n",
    "```\n",
    "'Circuit Code Name'.initialize(See Link)\n",
    "```\n",
    "Seems very useful, see ([LINK](https://qiskit.org/documentation/stubs/qiskit.circuit.QuantumCircuit.initialize.html#qiskit.circuit.QuantumCircuit.initialize)) (*PROVIDE IN DEPTH EXPLANATION PERHAPS IN SEPERATE SECTION LABELED CIRCUIT ADVANCED ALONG WITH OTHERS SUCH AS IF AND FOR AND WHILE*)\n",
    "### **If**\n",
    "```\n",
    "'Circuit Code Name'.if_test(see link)\n",
    "```\n",
    "(*Needs more info*)([LINK](https://qiskit.org/documentation/stubs/qiskit.circuit.QuantumCircuit.if_test.html#qiskit.circuit.QuantumCircuit.if_test))\n",
    "### **If Else**\n",
    "```\n",
    "'Circuit Code Name'.if_else(see link)\n",
    "```\n",
    "(*Needs more info*)([LINK](https://qiskit.org/documentation/stubs/qiskit.circuit.QuantumCircuit.if_else.html#qiskit.circuit.QuantumCircuit.if_else))\n",
    "### **Power**\n",
    "```\n",
    "'Circuit Code Name'.power(see link)\n",
    "```\n",
    "(*Needs more info*)([LINK](https://qiskit.org/documentation/stubs/qiskit.circuit.QuantumCircuit.power.html#qiskit.circuit.QuantumCircuit.power))\n",
    "### **Prepare a State**\n",
    "```\n",
    "'Circuit Code Name'.prepare_state(see link)\n",
    "```\n",
    "(*Needs more info*)([LINK](https://qiskit.org/documentation/stubs/qiskit.circuit.QuantumCircuit.prepare_state.html#qiskit.circuit.QuantumCircuit.prepare_state))\n",
    "### **Repeat**\n",
    "```\n",
    "'Circuit Code Name'.repeat(see link)\n",
    "```\n",
    "(*Needs more info*)([LINK](https://qiskit.org/documentation/stubs/qiskit.circuit.QuantumCircuit.repeat.html#qiskit.circuit.QuantumCircuit.repeat))\n",
    "### **Reset Qubit**\n",
    "```\n",
    "'Circuit Code Name'.reset(Qubit)\n",
    "```\n",
    "Resets a qubit to its orignal state, this is most likely called as such:\n",
    "``` \n",
    "'Circuit Code Name'.reset('Register Code Name'['Qubit Index'])\n",
    "```\n",
    "### **Size**\n",
    "```\n",
    "'Circuit Code Name'.size()\n",
    "```\n",
    "Returns the total number of instructions\n",
    "### **Width**\n",
    "```\n",
    "'Circuit Code Name'.width()\n",
    "```\n",
    "Returns the total qubits and bits\n",
    "### **To Gate**\n",
    "```\n",
    "'Circuit Code Name'.to_gate(label = 'Gate label)\n",
    "```\n",
    "Returns a gate that harbors all of the gates inside the circuit with an optional label that displays on drawing, this can be added to a macro circuit. This goes into the idea of sub-circuits and macro circuits. More information about gates and the aforementioned circuit types can be found here ([LINK]())\n",
    "### **To Instruction**\n",
    "```\n",
    "'Circuit Code Name'.to_instruction(label = 'Instruction label')\n",
    "```\n",
    "Returns an instruction (*Needs more info*) with an optional label that displays on drawing, this can be (*Needs more info*). More information about instructions can be found here ([LINK]())\n",
    "\n",
    "Try testing examples of methods in the empty box below:"
   ]
  },
  {
   "cell_type": "code",
   "execution_count": null,
   "id": "b8763ef7-0bed-4355-b542-15c3ed5d65c3",
   "metadata": {},
   "outputs": [],
   "source": []
  },
  {
   "cell_type": "markdown",
   "id": "905f9ee3-0b3d-450e-8c6e-0d302068bbeb",
   "metadata": {},
   "source": [
    "To learn more about the next step in the journey, gates, go to this [LINK](), if you would like to go to the home page, click this [LINK](). Congrats!"
   ]
  }
 ],
 "metadata": {
  "kernelspec": {
   "display_name": "Python 3 (ipykernel)",
   "language": "python",
   "name": "python3"
  },
  "language_info": {
   "codemirror_mode": {
    "name": "ipython",
    "version": 3
   },
   "file_extension": ".py",
   "mimetype": "text/x-python",
   "name": "python",
   "nbconvert_exporter": "python",
   "pygments_lexer": "ipython3",
   "version": "3.8.13"
  },
  "widgets": {
   "application/vnd.jupyter.widget-state+json": {
    "state": {
     "08a36a7df2ac41d397462f3d1d84a26b": {
      "model_module": "@jupyter-widgets/base",
      "model_module_version": "1.2.0",
      "model_name": "LayoutModel",
      "state": {
       "grid_area": "right",
       "padding": "0px 0px 0px 0px",
       "width": "70px"
      }
     },
     "2a68e6775b4042cf9de6d90ef5ae26f1": {
      "model_module": "@jupyter-widgets/controls",
      "model_module_version": "1.5.0",
      "model_name": "ButtonModel",
      "state": {
       "button_style": "primary",
       "description": "Clear",
       "layout": "IPY_MODEL_08a36a7df2ac41d397462f3d1d84a26b",
       "style": "IPY_MODEL_cff3e55098574241a9019fd18d76ed74"
      }
     },
     "2d8682ab637840a087fec677016c9f7a": {
      "model_module": "@jupyter-widgets/controls",
      "model_module_version": "1.5.0",
      "model_name": "DescriptionStyleModel",
      "state": {
       "description_width": ""
      }
     },
     "304725020bdf4e9386714fcc2856a3c2": {
      "model_module": "@jupyter-widgets/controls",
      "model_module_version": "1.5.0",
      "model_name": "DescriptionStyleModel",
      "state": {
       "description_width": ""
      }
     },
     "37b035cb512e4b78bb2d0a1298c3e91a": {
      "model_module": "@jupyter-widgets/controls",
      "model_module_version": "1.5.0",
      "model_name": "DescriptionStyleModel",
      "state": {
       "description_width": ""
      }
     },
     "3b3d9b73ffa94220977ad860b724f6d5": {
      "model_module": "@jupyter-widgets/base",
      "model_module_version": "1.2.0",
      "model_name": "LayoutModel",
      "state": {
       "width": "145px"
      }
     },
     "5228f14c23004605ae948a7e61bb05bf": {
      "model_module": "@jupyter-widgets/base",
      "model_module_version": "1.2.0",
      "model_name": "LayoutModel",
      "state": {
       "width": "95px"
      }
     },
     "52b84d336e1d49d6824d237e3fa513b6": {
      "model_module": "@jupyter-widgets/controls",
      "model_module_version": "1.5.0",
      "model_name": "HTMLModel",
      "state": {
       "layout": "IPY_MODEL_711fe906e98d422ab180659de2d8748a",
       "style": "IPY_MODEL_ccf7c805c11e4c1f9afdef54da02ab16",
       "value": "<h5>Queue</h5>"
      }
     },
     "52f631ae4d8046b384d6e3a4b7ed1ca5": {
      "model_module": "@jupyter-widgets/controls",
      "model_module_version": "1.5.0",
      "model_name": "HBoxModel",
      "state": {
       "children": [
        "IPY_MODEL_78fa69d6c47f4b30a3419246ac915dcd",
        "IPY_MODEL_f0c06a9b07974688be743df2614db48d",
        "IPY_MODEL_c9ddd410dfdc46e9930411f55ca5eedd",
        "IPY_MODEL_52b84d336e1d49d6824d237e3fa513b6",
        "IPY_MODEL_7cb838d836454413a09bb37c33522faa"
       ],
       "layout": "IPY_MODEL_c4f15761b7454415bbb975f3926ff277"
      }
     },
     "6c986ffd1ff14902a43d9a5a3fac13ca": {
      "model_module": "@jupyter-widgets/base",
      "model_module_version": "1.2.0",
      "model_name": "LayoutModel",
      "state": {
       "grid_template_areas": "\n                                       \". . . . right \"\n                                        ",
       "grid_template_columns": "20% 20% 20% 20% 20%",
       "width": "100%"
      }
     },
     "711fe906e98d422ab180659de2d8748a": {
      "model_module": "@jupyter-widgets/base",
      "model_module_version": "1.2.0",
      "model_name": "LayoutModel",
      "state": {
       "width": "70px"
      }
     },
     "78fa69d6c47f4b30a3419246ac915dcd": {
      "model_module": "@jupyter-widgets/controls",
      "model_module_version": "1.5.0",
      "model_name": "HTMLModel",
      "state": {
       "layout": "IPY_MODEL_ede35fce4db749859c6970aad0454e33",
       "style": "IPY_MODEL_304725020bdf4e9386714fcc2856a3c2",
       "value": "<h5>Job ID</h5>"
      }
     },
     "7ba9b257a358430a9a1c843434d29883": {
      "model_module": "@jupyter-widgets/controls",
      "model_module_version": "1.5.0",
      "model_name": "DescriptionStyleModel",
      "state": {
       "description_width": ""
      }
     },
     "7cb838d836454413a09bb37c33522faa": {
      "model_module": "@jupyter-widgets/controls",
      "model_module_version": "1.5.0",
      "model_name": "HTMLModel",
      "state": {
       "layout": "IPY_MODEL_8672a1c35c9c45a7a1cac1127244b8e6",
       "style": "IPY_MODEL_2d8682ab637840a087fec677016c9f7a",
       "value": "<h5>Message</h5>"
      }
     },
     "8672a1c35c9c45a7a1cac1127244b8e6": {
      "model_module": "@jupyter-widgets/base",
      "model_module_version": "1.2.0",
      "model_name": "LayoutModel",
      "state": {}
     },
     "c4f15761b7454415bbb975f3926ff277": {
      "model_module": "@jupyter-widgets/base",
      "model_module_version": "1.2.0",
      "model_name": "LayoutModel",
      "state": {
       "margin": "0px 0px 0px 37px",
       "width": "600px"
      }
     },
     "c9ddd410dfdc46e9930411f55ca5eedd": {
      "model_module": "@jupyter-widgets/controls",
      "model_module_version": "1.5.0",
      "model_name": "HTMLModel",
      "state": {
       "layout": "IPY_MODEL_5228f14c23004605ae948a7e61bb05bf",
       "style": "IPY_MODEL_37b035cb512e4b78bb2d0a1298c3e91a",
       "value": "<h5>Status</h5>"
      }
     },
     "cb57006f05e14663a3f7105184e4a37a": {
      "model_module": "@jupyter-widgets/controls",
      "model_module_version": "1.5.0",
      "model_name": "GridBoxModel",
      "state": {
       "children": [
        "IPY_MODEL_2a68e6775b4042cf9de6d90ef5ae26f1"
       ],
       "layout": "IPY_MODEL_6c986ffd1ff14902a43d9a5a3fac13ca"
      }
     },
     "ccf7c805c11e4c1f9afdef54da02ab16": {
      "model_module": "@jupyter-widgets/controls",
      "model_module_version": "1.5.0",
      "model_name": "DescriptionStyleModel",
      "state": {
       "description_width": ""
      }
     },
     "cff3e55098574241a9019fd18d76ed74": {
      "model_module": "@jupyter-widgets/controls",
      "model_module_version": "1.5.0",
      "model_name": "ButtonStyleModel",
      "state": {}
     },
     "e2829f96c0a140038a9d3d3922d20031": {
      "model_module": "@jupyter-widgets/controls",
      "model_module_version": "1.5.0",
      "model_name": "HTMLModel",
      "state": {
       "layout": "IPY_MODEL_e69412bc99d349e5a9662eb4a54cef42",
       "style": "IPY_MODEL_e9232948575140d88cf469565fcd98b5",
       "value": "<p style='font-family: IBM Plex Sans, Arial, Helvetica, sans-serif; font-size: 20px; font-weight: medium;'>Circuit Properties</p>"
      }
     },
     "e69412bc99d349e5a9662eb4a54cef42": {
      "model_module": "@jupyter-widgets/base",
      "model_module_version": "1.2.0",
      "model_name": "LayoutModel",
      "state": {
       "margin": "0px 0px 10px 0px"
      }
     },
     "e9232948575140d88cf469565fcd98b5": {
      "model_module": "@jupyter-widgets/controls",
      "model_module_version": "1.5.0",
      "model_name": "DescriptionStyleModel",
      "state": {
       "description_width": ""
      }
     },
     "ede35fce4db749859c6970aad0454e33": {
      "model_module": "@jupyter-widgets/base",
      "model_module_version": "1.2.0",
      "model_name": "LayoutModel",
      "state": {
       "width": "190px"
      }
     },
     "f0c06a9b07974688be743df2614db48d": {
      "model_module": "@jupyter-widgets/controls",
      "model_module_version": "1.5.0",
      "model_name": "HTMLModel",
      "state": {
       "layout": "IPY_MODEL_3b3d9b73ffa94220977ad860b724f6d5",
       "style": "IPY_MODEL_7ba9b257a358430a9a1c843434d29883",
       "value": "<h5>Backend</h5>"
      }
     }
    },
    "version_major": 2,
    "version_minor": 0
   }
  }
 },
 "nbformat": 4,
 "nbformat_minor": 5
}
