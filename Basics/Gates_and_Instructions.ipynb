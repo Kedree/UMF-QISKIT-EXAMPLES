{
 "cells": [
  {
   "cell_type": "code",
   "execution_count": 3,
   "id": "97320f71-61c1-4f83-83b6-68891252db40",
   "metadata": {},
   "outputs": [
    {
     "name": "stderr",
     "output_type": "stream",
     "text": [
      "ibmqfactory.load_account:WARNING:2022-06-10 11:36:55,060: Credentials are already in use. The existing account in the session will be replaced.\n"
     ]
    }
   ],
   "source": [
    "import numpy as np\n",
    "\n",
    "# Importing standard Qiskit libraries\n",
    "from qiskit import *\n",
    "from qiskit.tools.jupyter import *\n",
    "from qiskit.visualization import *\n",
    "from ibm_quantum_widgets import *\n",
    "from qiskit.providers.aer import QasmSimulator\n",
    "\n",
    "# Loading your IBM Quantum account(s)\n",
    "provider = IBMQ.load_account()"
   ]
  },
  {
   "cell_type": "markdown",
   "id": "618ee17a-78b4-41c4-8619-9d91c6c8e6aa",
   "metadata": {
    "tags": []
   },
   "source": [
    "# Gates\n",
    "Not gates are the 3 pauli matricies they are used by QuantumCircuit.j(n) where $j \\in \\{X,Y,Z\\}$ and n is just an integer and those are $$ Z =  \\begin{pmatrix} 1 & 0 \\\\ 0 & -1  \\end{pmatrix},\\text{    }  X =  \\begin{pmatrix}  0 & 1 \\\\ 1 & 0 \\end{pmatrix},\\text{and }  Y =  \\begin{pmatrix} 0 & -i \\\\ i & 0 \\end{pmatrix} $$ "
   ]
  },
  {
   "cell_type": "code",
   "execution_count": 19,
   "id": "d552d046-234a-4f09-a079-077247d3b315",
   "metadata": {},
   "outputs": [
    {
     "data": {
      "image/png": "[encoded data removed]",
      "text/plain": [
       "<Figure size 146.797x264.88 with 1 Axes>"
      ]
     },
     "execution_count": 19,
     "metadata": {},
     "output_type": "execute_result"
    }
   ],
   "source": [
    "qcx = QuantumCircuit(3,10)\n",
    "qcx.x(0)\n",
    "qcx.y(1)\n",
    "qcx.z(2)\n",
    "qcx.draw()\n"
   ]
  },
  {
   "cell_type": "markdown",
   "id": "c1759969-1fb3-40f2-a0a5-a81e8fe4fb14",
   "metadata": {},
   "source": [
    "### hadmard \n",
    "This is super simple we just do QuantumCircuit().h(n) where n is the target qubit, the formula for the hadmard looks like $$ H = \\frac{1}{\\sqrt{2}} \\begin{pmatrix} 1 & 1 \\\\ 1 & -1 \\end{pmatrix} $$ "
   ]
  },
  {
   "cell_type": "code",
   "execution_count": 6,
   "id": "d77ab0ab-f1d4-4596-8503-668ac4da2ea9",
   "metadata": {},
   "outputs": [
    {
     "data": {
      "image/png": "[encoded data removed]",
      "text/plain": [
       "<Figure size 159.633x204.68 with 1 Axes>"
      ]
     },
     "execution_count": 6,
     "metadata": {},
     "output_type": "execute_result"
    }
   ],
   "source": [
    "qc_1.h(0)\n",
    "qc_1.draw('mpl')"
   ]
  },
  {
   "cell_type": "markdown",
   "id": "d492e2fa-bd20-43de-8dd8-78d6428382fe",
   "metadata": {},
   "source": [
    "### Clifford Gate\n",
    "This is a specific gate it is done with some QuantumCircuit().s(n) where n is the specific qubit you want to target $$ S = \\begin{pmatrix} 1 & 0 \\\\ 0 & i \\end{pmatrix} $$ "
   ]
  },
  {
   "cell_type": "code",
   "execution_count": 7,
   "id": "bb822f4e-1574-4212-ac11-d933acf51fc1",
   "metadata": {},
   "outputs": [
    {
     "data": {
      "image/png": "[encoded data removed]",
      "text/plain": [
       "<Figure size 146.652x204.68 with 1 Axes>"
      ]
     },
     "execution_count": 7,
     "metadata": {},
     "output_type": "execute_result"
    }
   ],
   "source": [
    "qc_2.s(1)\n",
    "qc_2.draw()"
   ]
  },
  {
   "cell_type": "markdown",
   "id": "1feac9c1-41c6-41df-892e-a7c78eacb238",
   "metadata": {},
   "source": [
    "### adjoint of S gate \n",
    "this is just the complex conjugate of S which is pretty simple but I will add the only way to use it is to do QuantumCircuit().sdg(n) where n is the qubit you want to use it on. $$ S^\\dagger = \\begin{pmatrix} 1 & 0 \\\\ 0 & -i \\end{pmatrix} $$ "
   ]
  },
  {
   "cell_type": "code",
   "execution_count": 16,
   "id": "bd443315-4b5e-4913-8bee-f6c1c16dad75",
   "metadata": {},
   "outputs": [
    {
     "data": {
      "image/png": "[encoded data removed]",
      "text/plain": [
       "<PIL.Image.Image image mode=RGB size=135x94 at 0x7F40528251C0>"
      ]
     },
     "execution_count": 16,
     "metadata": {},
     "output_type": "execute_result"
    }
   ],
   "source": [
    "qc_3 = QuantumCircuit(2,2)\n",
    "qc_3.sdg(0)\n",
    "qc_3.draw('latex') "
   ]
  },
  {
   "cell_type": "markdown",
   "id": "b0c1213c-8080-4848-85be-23f0dbe20697",
   "metadata": {},
   "source": [
    "### Reset gate \n",
    "This is a way to reset everything not really sure how useful this is but it is done in a similar way QuantumCircuit().reset() and it just resets it to the compuational zero state. "
   ]
  },
  {
   "cell_type": "code",
   "execution_count": 17,
   "id": "4eac1736-cd5c-4ecf-93a5-b41a1519045e",
   "metadata": {},
   "outputs": [
    {
     "data": {
      "image/png": "[encoded data removed]",
      "text/plain": [
       "<Figure size 206.852x204.68 with 1 Axes>"
      ]
     },
     "execution_count": 17,
     "metadata": {},
     "output_type": "execute_result"
    }
   ],
   "source": [
    "qc_3.reset(0) \n",
    "qc_3.draw('mpl') "
   ]
  },
  {
   "cell_type": "markdown",
   "id": "9255d217-74bb-4b9c-aa6d-a2b1b6b9c062",
   "metadata": {
    "tags": []
   },
   "source": [
    "### Swap Gate\n",
    "This is a pretty straight forward gate we see that it is applied the same way as the previous gates with no surprise QuantumCircuit().swap(n,m) where m and n are the two qubits you want to swap looking on a 2 qubut swap we see that it looks like: $$ \\text{Swap(0,3)} = \\begin{pmatrix} 0 & 0 & 0 & 1 \\\\ 0 & 1 & 0 & 0 \\\\ 0 & 0 & 1 & 0 \\\\ 1 & 0 & 0 & 0 \\end{pmatrix} $$ "
   ]
  },
  {
   "cell_type": "code",
   "execution_count": 20,
   "id": "ea5c2178-11d6-439b-9161-f3ef61f08b1f",
   "metadata": {},
   "outputs": [
    {
     "data": {
      "image/png": "[encoded data removed]",
      "text/plain": [
       "<Figure size 146.797x325.08 with 1 Axes>"
      ]
     },
     "execution_count": 20,
     "metadata": {},
     "output_type": "execute_result"
    }
   ],
   "source": [
    "qcswap = QuantumCircuit(4,2)\n",
    "qcswap.swap(0,3)\n",
    "qcswap.draw() "
   ]
  },
  {
   "cell_type": "markdown",
   "id": "7b6ce1ce-d0f2-48b4-989a-48c6ca2d7725",
   "metadata": {},
   "source": [
    "### Controlled not gate\n",
    "This is a specific gate that has so many different applications in quantum computation so it is a gate that works as an XOR gate so we can se if your qubit has a 1 in the first qubit then you add a 1 to the next qubit it looks like:\n",
    "\n",
    "$$ cx = \\begin{pmatrix} 1 & 0 & 0 & 0 \\\\ 0 & 1 & 0 & 0 \\\\ 0 & 0 & 0 & 1 \\\\ 0 & 0 & 1 & 0 \\end{pmatrix}$$"
   ]
  },
  {
   "cell_type": "code",
   "execution_count": 16,
   "id": "783c3868-8367-4a1d-a636-d9558f8118e1",
   "metadata": {},
   "outputs": [
    {
     "data": {
      "image/png": "[encoded data removed]",
      "text/plain": [
       "<Figure size 146.797x385.28 with 1 Axes>"
      ]
     },
     "execution_count": 16,
     "metadata": {},
     "output_type": "execute_result"
    }
   ],
   "source": [
    "cnot_circuit = QuantumCircuit(6) \n",
    "\n",
    "\n",
    "cnot_circuit.cx(0,1) \n",
    "cnot_circuit.cz(2,3) \n",
    "cnot_circuit.cy(4,5) \n",
    "\n",
    "\n",
    "cnot_circuit.draw() "
   ]
  },
  {
   "cell_type": "markdown",
   "id": "e0b76c29-ef5d-40f1-ae6b-c55f91665d61",
   "metadata": {
    "tags": []
   },
   "source": [
    "### controlled phase gate\n",
    "This gate is specifically if and only if you have $|11\\rangle$ you will get a phase on both qubits with value $\\frac{\\theta}{2}$. it is applied with \n",
    "\n",
    "QuantumCircuit().cp($\\theta$, control, target ) where $\\theta$ is just the phase and the control is the first qubit and target is the second qubit:\n",
    "\n",
    "$$ cp = \\begin{pmatrix} 1 & 0 & 0 & 0 \\\\ 0 & 1 & 0 & 0 \\\\ 0 & 0 & 1 & 0 \\\\ 0 & 0 & 0 & e^{i\\theta} \\end{pmatrix} $$ "
   ]
  },
  {
   "cell_type": "code",
   "execution_count": 19,
   "id": "483eea22-df50-45e7-ab00-0c8742ac6d5f",
   "metadata": {},
   "outputs": [
    {
     "data": {
      "image/png": "[encoded data removed]",
      "text/plain": [
       "<PIL.Image.Image image mode=RGB size=170x83 at 0x7F0B015D0310>"
      ]
     },
     "execution_count": 19,
     "metadata": {},
     "output_type": "execute_result"
    }
   ],
   "source": [
    "phase_gate = QuantumCircuit(3) \n",
    "\n",
    "phase_gate.cp( 2* np.pi,0,2 ) \n",
    "\n",
    "phase_gate.draw('latex')\n"
   ]
  },
  {
   "cell_type": "markdown",
   "id": "f96b23da-ac9d-4f84-8fa5-7526e3e14c3c",
   "metadata": {},
   "source": [
    "### Rotation gates\n",
    "So these are a little more complicated it is basically just $ e^{-i\\sigma_j/2} $ where $j \\in \\{X,Y,Z\\}$ and they are usually parameterized by some value but it is applied QuantumCircuit().rj($\\theta/2$, n):\n",
    "\n",
    "$$ Rx = \\begin{pmatrix} \\cos\\left(\\frac{\\theta}{2}\\right) & -i\\sin\\left(\\frac{\\theta}{2}\\right) \\\\ -i\\sin\\left(\\frac{\\theta}{2}\\right) & \\cos\\left(\\frac{\\theta}{2}\\right)\\end{pmatrix}  , \\text{ } Ry = \\begin{pmatrix} \\cos\\left(\\frac{\\theta}{2}\\right) & -\\sin\\left(\\frac{\\theta}{2}\\right) \\\\ \\sin\\left(\\frac{\\theta}{2}\\right) & \\cos\\left(\\frac{\\theta}{2}\\right) \\end{pmatrix}  ,\\text{ and } Rz = \\begin{pmatrix} e^{-i \\frac{\\theta}{2}} & 0 \\\\ 0 & e^{-i \\frac{\\theta}{2}} \\end{pmatrix}$$"
   ]
  },
  {
   "cell_type": "code",
   "execution_count": 20,
   "id": "b046fd4f-e4f0-4db8-b719-97aadc5f70f1",
   "metadata": {},
   "outputs": [
    {
     "data": {
      "image/png": "[encoded data removed]",
      "text/plain": [
       "<Figure size 146.797x204.68 with 1 Axes>"
      ]
     },
     "execution_count": 20,
     "metadata": {},
     "output_type": "execute_result"
    }
   ],
   "source": [
    "rotations = QuantumCircuit(3) \n",
    "\n",
    "rotations.rx(np.pi,0) \n",
    "rotations.ry(np.pi,1) \n",
    "rotations.rz(np.pi,2)\n",
    "\n",
    "rotations.draw()"
   ]
  },
  {
   "cell_type": "markdown",
   "id": "8f988ce0-7054-4d63-a6a4-ad637c5f36f9",
   "metadata": {},
   "source": [
    "### to_gate()\n",
    "this is an attribute of the QuantumCircuit() so you can call it by just doing any:\n",
    "\n",
    "```\n",
    "qc = QuantumCirucuit(m,n,name = 'Your_mom_gate') \n",
    "\n",
    "between this we just do our operations\n",
    " \n",
    "qc.to_gate()\n",
    "```\n",
    "this makes the circuit into a gate. "
   ]
  },
  {
   "cell_type": "code",
   "execution_count": 8,
   "id": "daf0363e-5234-4314-87ce-208d0527afd1",
   "metadata": {},
   "outputs": [
    {
     "data": {
      "text/plain": [
       "Instruction(name='Kedree_gate', num_qubits=2, num_clbits=0, params=[])"
      ]
     },
     "execution_count": 8,
     "metadata": {},
     "output_type": "execute_result"
    }
   ],
   "source": [
    "qc_gate = QuantumCircuit(2,name = 'Kedree_gate')\n",
    "qc_gate.h(1)\n",
    "qc_gate.cx(0,1) \n",
    "qc_gate.rx(np.pi * 2 , 1) \n",
    "qc_gate.to_gate() "
   ]
  },
  {
   "cell_type": "markdown",
   "id": "56f9c977-6a78-4bd8-afd9-8885a0825314",
   "metadata": {},
   "source": [
    "### Append, Barrier, and Measure\n",
    "Yes as you can see in the last part we have made an instruction which is the class in which all useable gates live, so in order to use it we have to append it to an already existing circuit. we do this the same as we would a list but we have to make sure that what we are appending does not have any classical bits. We can aslo split it by using a barrier this is just to section off your circiut for readability via. QuantumCircuit().barrier(), and finally we can measure with the command QuantumCircuit().measure(p,q) where p and q are either lists of integers or single integers where if lists then p = [a,b,c,d,e] and q = [j,k,l,;,'] and we can say a maps to j and b maps to k ... so we finally measure what what the Kedree_gate does to the Steven quantum circuit: \n",
    "\n",
    "```\n",
    "qc_steven = QuantumCircuit(4,2, name = 'Steven_is_vice_president')\n",
    "qc_steven.h(1)\n",
    "qc_steven.ry(np.pi * 2 , 3 ) \n",
    "qc_steven.swap(0,3) \n",
    "qc_steven.swap(2,1) \n",
    "qc_steven.cp(np.pi, 1,3) \n",
    "\n",
    "qc_steven.barrier()\n",
    "\n",
    "qc_steven.append(Kedree_gate,[0,1])\n",
    "qc_steven.append(Kedree_gate,[2,3])\n",
    "\n",
    "qc_steven.barrier()\n",
    "\n",
    "qc_steven.measure([1,3],[0,1])\n",
    "\n",
    "qc_steven.draw()\n",
    "```\n",
    "This should draw a new gate inside of steven and a bunch of other stuff! "
   ]
  },
  {
   "cell_type": "code",
   "execution_count": 15,
   "id": "38d31d39-8792-4e80-a1e9-f245cc6668d2",
   "metadata": {},
   "outputs": [
    {
     "data": {
      "image/png": "[encoded data removed]",
      "text/plain": [
       "<Figure size 748.797x325.08 with 1 Axes>"
      ]
     },
     "execution_count": 15,
     "metadata": {},
     "output_type": "execute_result"
    }
   ],
   "source": [
    "qc_steven = QuantumCircuit(4,2, name = 'Steven_is_vice_president')\n",
    "qc_steven.h(1)\n",
    "qc_steven.ry(np.pi * 2 , 3 ) \n",
    "qc_steven.swap(0,3) \n",
    "qc_steven.swap(2,1) \n",
    "qc_steven.cp(np.pi, 1,3) \n",
    "\n",
    "qc_steven.barrier()\n",
    "\n",
    "qc_steven.append(qc_gate,[0,1])\n",
    "qc_steven.append(qc_gate,[2,3])\n",
    "\n",
    "qc_steven.barrier()\n",
    "\n",
    "qc_steven.measure([1,3],[0,1])\n",
    "\n",
    "qc_steven.draw()"
   ]
  },
  {
   "cell_type": "markdown",
   "id": "8232692a-3bad-4b12-ba71-518be48c3117",
   "metadata": {},
   "source": [
    "### qasm_simulator, execute, histogram\n",
    "for this we need to define a simulator to work on in the backend and we do this with the command Aer.get_backend('') in this argument you can only use the available backend whether that is pulse or statevector simulators I think that is all of them then you have to define the number of shots you want I think it is default 512, finally we have to store the execution in some variable and we call that usually job and we say execute(QuantumCircuit(),simulator/provider,shots = shots) and then we output an AerJob class which has attribute result() which has all those attributes look at the cell below and we just want to get the counts in this specific so we can call the attribute with job.result().get_counts('') and then we can plot on a histagram with plot_histogram(counts).\n"
   ]
  },
  {
   "cell_type": "code",
   "execution_count": 26,
   "id": "33ddc92a-7327-4d61-8c6b-88b4b5c95a15",
   "metadata": {},
   "outputs": [
    {
     "name": "stdout",
     "output_type": "stream",
     "text": [
      "Result(backend_name='qasm_simulator', backend_version='0.10.4', qobj_id='a82ed004-6a7b-4f1e-a352-a18ca7e81d8a', job_id='227d75c3-0012-4247-a4f1-c8f79cc79ca0', success=True, results=[ExperimentResult(shots=1024, success=True, meas_level=2, data=ExperimentResultData(counts={'0x3': 243, '0x1': 269, '0x2': 275, '0x0': 237}), header=QobjExperimentHeader(clbit_labels=[['c', 0], ['c', 1]], creg_sizes=[['c', 2]], global_phase=3.141592653589793, memory_slots=2, metadata={}, n_qubits=4, name='Steven_is_vice_president', qreg_sizes=[['q', 4]], qubit_labels=[['q', 0], ['q', 1], ['q', 2], ['q', 3]]), status=DONE, seed_simulator=3116465554, metadata={'parallel_state_update': 8, 'noise': 'ideal', 'batched_shots_optimization': False, 'measure_sampling': True, 'device': 'CPU', 'num_qubits': 4, 'parallel_shots': 1, 'remapped_qubits': False, 'method': 'statevector', 'active_input_qubits': [0, 1, 2, 3], 'num_clbits': 2, 'input_qubit_map': [[3, 3], [2, 2], [0, 0], [1, 1]], 'fusion': {'applied': False, 'max_fused_qubits': 5, 'enabled': True, 'threshold': 14}}, time_taken=0.005627756)], date=2022-06-10T14:49:37.982289, status=COMPLETED, status=QobjHeader(backend_name='qasm_simulator', backend_version='0.10.4'), metadata={'time_taken': 0.006168465, 'time_taken_execute': 0.005747818, 'parallel_experiments': 1, 'omp_enabled': True, 'max_gpu_memory_mb': 0, 'num_mpi_processes': 1, 'time_taken_load_qobj': 0.000400677, 'max_memory_mb': 31960, 'mpi_rank': 0}, time_taken=0.0064563751220703125)\n"
     ]
    }
   ],
   "source": [
    "print(result)"
   ]
  },
  {
   "cell_type": "code",
   "execution_count": 23,
   "id": "4b8d0099-f407-4d41-a7c2-450f9814bf93",
   "metadata": {},
   "outputs": [
    {
     "data": {
      "image/png": "[encoded data removed]",
      "text/plain": [
       "<Figure size 504x360 with 1 Axes>"
      ]
     },
     "execution_count": 23,
     "metadata": {},
     "output_type": "execute_result"
    }
   ],
   "source": [
    "simulator = Aer.get_backend('qasm_simulator')\n",
    "shots = 1024\n",
    "\n",
    "job = execute(qc_steven,simulator,shots = shots)\n",
    "\n",
    "result = job.result()\n",
    "\n",
    "counts = result.get_counts('Steven_is_vice_president') \n",
    "\n",
    "plot_histogram(counts)\n"
   ]
  }
 ],
 "metadata": {
  "kernelspec": {
   "display_name": "Python 3 (ipykernel)",
   "language": "python",
   "name": "python3"
  },
  "language_info": {
   "codemirror_mode": {
    "name": "ipython",
    "version": 3
   },
   "file_extension": ".py",
   "mimetype": "text/x-python",
   "name": "python",
   "nbconvert_exporter": "python",
   "pygments_lexer": "ipython3",
   "version": "3.8.13"
  },
  "widgets": {
   "application/vnd.jupyter.widget-state+json": {
    "state": {},
    "version_major": 2,
    "version_minor": 0
   }
  }
 },
 "nbformat": 4,
 "nbformat_minor": 5
}
